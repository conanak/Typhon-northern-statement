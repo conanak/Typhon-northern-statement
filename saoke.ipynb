{
  "nbformat": 4,
  "nbformat_minor": 0,
  "metadata": {
    "colab": {
      "provenance": [],
      "authorship_tag": "ABX9TyMAhpyIJU38UUE+4AAQHySv",
      "include_colab_link": true
    },
    "kernelspec": {
      "name": "python3",
      "display_name": "Python 3"
    },
    "language_info": {
      "name": "python"
    }
  },
  "cells": [
    {
      "cell_type": "markdown",
      "metadata": {
        "id": "view-in-github",
        "colab_type": "text"
      },
      "source": [
        "<a href=\"https://colab.research.google.com/github/conanak/Typhon-northern-statement/blob/main/saoke.ipynb\" target=\"_parent\"><img src=\"https://colab.research.google.com/assets/colab-badge.svg\" alt=\"Open In Colab\"/></a>"
      ]
    },
    {
      "cell_type": "code",
      "source": [
        "!pip install PyPDF2\n",
        "from typing import List, Any\n",
        "\n",
        "import PyPDF2\n",
        "import csv\n",
        "import re\n",
        "from pathlib import Path\n",
        "\n",
        "date_pattern = r'^(0[1-9]|[12][0-9]|3[01])/(0[1-9]|1[0-2])/\\d{4}'\n",
        "page_number_pattern = r\"Page (\\d{1,5}) of (12028)\"\n",
        "line_prefix = ['Ngày GD/', 'TNX Date', 'Số CT/ Doc NoSố tiền ghi nợ/', 'DebitSố tiền ghi có/', 'CreditSố dư/',\n",
        "               'BalanceNội dung chi tiết/', 'Transactions in detail']\n",
        "\n",
        "\n",
        "class Transaction:\n",
        "    def __init__(self, date, transaction_id, transaction_amount, balance, message):\n",
        "        self.date = date\n",
        "        self.transaction_id = transaction_id\n",
        "        self.transaction_amount = transaction_amount\n",
        "        self.balance = balance\n",
        "        self.message = message\n",
        "\n",
        "\n",
        "transaction_objs = []\n",
        "\n",
        "\n",
        "def read_data_file(csv_file):\n",
        "    with open(csv_file, mode='r', newline='') as file:\n",
        "        reader = csv.reader(file)\n",
        "        # Skip the header\n",
        "        next(reader)\n",
        "\n",
        "        # Process each row in the CSV file\n",
        "        for row in reader:\n",
        "            transaction_objs.append(\n",
        "                Transaction(row[0], row[1], row[2], row[3], row[4]))\n",
        "\n",
        "\n",
        "def pdf_to_csv(pdf_file, csv_file):\n",
        "    # Open the PDF file\n",
        "\n",
        "    with open(pdf_file, 'rb') as file:\n",
        "        reader = PyPDF2.PdfReader(file)\n",
        "\n",
        "        # Open the CSV file for writing\n",
        "        i = 0\n",
        "        with open(csv_file, 'w', newline='') as csvfile:\n",
        "            writer = csv.writer(csvfile)\n",
        "            i = 0\n",
        "\n",
        "            # Iterate through each page in the PDF\n",
        "            for page in reader.pages:\n",
        "                text = page.extract_text()\n",
        "\n",
        "                # Split the text into lines\n",
        "                lines = text.split('\\n')\n",
        "\n",
        "                # Process each line and write to CSV\n",
        "                found_match = False\n",
        "                collected = []\n",
        "\n",
        "                # clear unnecessary data\n",
        "                for line in lines:\n",
        "                    if found_match or re.match(date_pattern, line.strip()):\n",
        "                        collected.append(line.strip())\n",
        "                        found_match = True\n",
        "                    if re.search(page_number_pattern, line.strip()):\n",
        "                        found_match = False\n",
        "\n",
        "                # parse data to object\n",
        "                transactions = split_transactions(collected)\n",
        "                for transaction in transactions:\n",
        "                    date = transaction[0]\n",
        "                    if len(transaction[1].strip().split(' ')[0]) > 10:\n",
        "                        transaction_id = transaction[1][:9]\n",
        "                    else:\n",
        "                        transaction_id = transaction[1][:10]\n",
        "                    slices = transaction[1].replace(transaction_id, '').strip().split(' ')\n",
        "                    transaction_amount = slices[0]\n",
        "                    message: list[str] = [\n",
        "                        transaction[1].replace(transaction_id, '').replace(transaction_amount, '').strip()]\n",
        "                    transaction.pop(0)  # remove first item\n",
        "                    transaction.pop(0)  # remove next item\n",
        "                    transaction_obj = Transaction(date, transaction_id, transaction_amount, 0,\n",
        "                                                  ' '.join(message + transaction).strip())\n",
        "                    transaction_objs.append(transaction_obj)\n",
        "                    if i == 0:\n",
        "                        writer.writerow(transaction_obj.__dict__)\n",
        "                        i = i + 1\n",
        "                    writer.writerow(transaction_obj.__dict__.values())\n",
        "\n",
        "\n",
        "def split_transactions(lst):\n",
        "    result = []\n",
        "    temp = []\n",
        "\n",
        "    for item in lst:\n",
        "        temp.append(item)\n",
        "        if re.match(date_pattern, item):\n",
        "            temp.pop()\n",
        "            if temp:\n",
        "                result.append(temp)\n",
        "            temp = [item]\n",
        "\n",
        "    if temp:  # Add the last sub-list if it exists\n",
        "        result.append(temp)\n",
        "\n",
        "    return result\n",
        "\n",
        "\n",
        "def remove_using_pop(lst):\n",
        "    for _ in range(len(line_prefix)):\n",
        "        if lst:\n",
        "            lst.pop(0)\n",
        "    return lst\n",
        "\n",
        "\n",
        "# Usage\n",
        "file_path = Path('output.csv')\n"
      ],
      "metadata": {
        "colab": {
          "base_uri": "https://localhost:8080/"
        },
        "id": "4E-ZMZr6beFS",
        "outputId": "363a5872-e902-4097-f088-e25c9edf34d1"
      },
      "execution_count": 13,
      "outputs": [
        {
          "output_type": "stream",
          "name": "stdout",
          "text": [
            "Requirement already satisfied: PyPDF2 in /usr/local/lib/python3.10/dist-packages (3.0.1)\n"
          ]
        }
      ]
    },
    {
      "cell_type": "markdown",
      "source": [
        "read *data* and search"
      ],
      "metadata": {
        "id": "_TYuG187b3CR"
      }
    },
    {
      "cell_type": "code",
      "source": [
        "file_path = Path('output.csv')\n",
        "if not file_path.is_file():\n",
        "    print(\"Data file not exists\")\n",
        "    pdf_to_csv('input.pdf', 'output.csv')\n",
        "else:\n",
        "    print(\"Data file exists\")\n",
        "    read_data_file('output.csv')\n",
        "print(\"Loaded data file\")\n",
        "print(len(transaction_objs))\n",
        "user_input = input(\"Please enter search word: \")\n",
        "filtered_trxns = [trxn for trxn in transaction_objs if\n",
        "                  user_input in str(trxn.transaction_amount).replace('.', '') or user_input in str(trxn.message)]\n",
        "print(len(filtered_trxns))\n",
        "for trxn in filtered_trxns:\n",
        "    print(trxn.__dict__)"
      ],
      "metadata": {
        "colab": {
          "base_uri": "https://localhost:8080/"
        },
        "id": "g5kgZj0Pb5R6",
        "outputId": "bbcfdd2d-7040-4657-f222-ef98220b5bda"
      },
      "execution_count": null,
      "outputs": [
        {
          "output_type": "stream",
          "name": "stdout",
          "text": [
            "Data file exists\n",
            "Loaded data file\n",
            "200365\n"
          ]
        }
      ]
    }
  ]
}